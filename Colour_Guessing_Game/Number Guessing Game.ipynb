{
 "cells": [
  {
   "cell_type": "markdown",
   "metadata": {},
   "source": [
    "**Guessing Game : Human vs Computer**"
   ]
  },
  {
   "cell_type": "code",
   "execution_count": null,
   "metadata": {
    "scrolled": true
   },
   "outputs": [],
   "source": [
    "from random import randint\n",
    "c_choice = randint(1,50)\n",
    "chance=5\n",
    "fchoice = 1\n",
    "print()\n",
    "print(\"-\"*125)\n",
    "print(\"GUESSS A NUMBER BETWEEN 1 to 50\".center(125))\n",
    "print(\"-\"*125)\n",
    "print()\n",
    "while(fchoice == 1):\n",
    "    while(chance>=1):\n",
    "        print(f\"\\nChances left : {chance}\")\n",
    "        user_choice=int(input(\"Enter the number : \"))\n",
    "        if c_choice==user_choice:\n",
    "            print(\"Great! you won.\\n\")\n",
    "            fchoice = input(\"Press Enter to play more.\\nPress 0 to exit.\\n\")\n",
    "            if fchoice == '\\n':\n",
    "                chance = 5\n",
    "                continue\n",
    "            else:\n",
    "                break\n",
    "        elif user_choice < c_choice:\n",
    "            chance -= 1\n",
    "            print(\"Your number is lower , try a higher number.\\n\")\n",
    "        elif user_choice > c_choice:\n",
    "            chance -= 1\n",
    "            print(\"Your number is higher , try a lower number.\\n\")\n",
    "    else:\n",
    "        print(f\"Computer's Choice  => {c_choice}\")\n",
    "        print(\"Better luck next time !!\\n\")\n",
    "        while(fchoice != '0' and fchoice != '1'):\n",
    "            fchoice = input(\"Press 1 to play more.\\nPress 0 to exit.\\n\")\n",
    "        fchoice = int(fchoice)\n",
    "        if fchoice == 1:\n",
    "            chance = 5\n",
    "            continue\n",
    "        else:\n",
    "            break\n",
    "print(\"Thanks for playing , Have a nice day!\".center(125))"
   ]
  }
 ],
 "metadata": {
  "kernelspec": {
   "display_name": "Python 3",
   "language": "python",
   "name": "python3"
  },
  "language_info": {
   "codemirror_mode": {
    "name": "ipython",
    "version": 3
   },
   "file_extension": ".py",
   "mimetype": "text/x-python",
   "name": "python",
   "nbconvert_exporter": "python",
   "pygments_lexer": "ipython3",
   "version": "3.7.6"
  }
 },
 "nbformat": 4,
 "nbformat_minor": 4
}
